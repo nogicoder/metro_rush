{
 "cells": [
  {
   "cell_type": "markdown",
   "metadata": {},
   "source": [
    "# Metro classes"
   ]
  },
  {
   "cell_type": "code",
   "execution_count": 1,
   "metadata": {},
   "outputs": [],
   "source": [
    "from metro import *"
   ]
  },
  {
   "cell_type": "markdown",
   "metadata": {},
   "source": [
    "## Build data from file"
   ]
  },
  {
   "cell_type": "code",
   "execution_count": 2,
   "metadata": {},
   "outputs": [],
   "source": [
    "metro = Metro('delhi')\n",
    "metro.build_graph('delhi')"
   ]
  },
  {
   "cell_type": "markdown",
   "metadata": {},
   "source": [
    "## Inspect metro class"
   ]
  },
  {
   "cell_type": "code",
   "execution_count": 3,
   "metadata": {},
   "outputs": [
    {
     "name": "stdout",
     "output_type": "stream",
     "text": [
      "Dilshad Garden\n",
      "Jhil Mil\n",
      "Mansarovar Park\n",
      "Shahdara\n",
      "Welcome\n",
      "Seelampur\n",
      "Shastri Park\n",
      "Kashmere Gate\n",
      "Tis Hazari\n",
      "Pul Bangash\n"
     ]
    }
   ],
   "source": [
    "# print 10 stations\n",
    "# metro.stations is a dictionary\n",
    "for station in list(metro.stations)[:10]:\n",
    "    print(station)"
   ]
  },
  {
   "cell_type": "code",
   "execution_count": 4,
   "metadata": {},
   "outputs": [
    {
     "data": {
      "text/plain": [
       "{'Red Line': <metro.Line at 0x7fc850f7df28>,\n",
       " 'Violet Line': <metro.Line at 0x7fc850f831d0>,\n",
       " 'Green Line': <metro.Line at 0x7fc850f832e8>,\n",
       " 'Pink Line': <metro.Line at 0x7fc850f833c8>,\n",
       " 'Yellow Line': <metro.Line at 0x7fc850f835c0>,\n",
       " 'Airport Express': <metro.Line at 0x7fc850f83908>,\n",
       " 'Blue Line': <metro.Line at 0x7fc850f83940>,\n",
       " 'Magenta Line': <metro.Line at 0x7fc850f83c50>,\n",
       " 'Rapid': <metro.Line at 0x7fc850f83eb8>}"
      ]
     },
     "execution_count": 4,
     "metadata": {},
     "output_type": "execute_result"
    }
   ],
   "source": [
    "# metro.lines is a dictionary\n",
    "metro.lines"
   ]
  },
  {
   "cell_type": "code",
   "execution_count": 5,
   "metadata": {},
   "outputs": [
    {
     "name": "stdout",
     "output_type": "stream",
     "text": [
      "Keshav Puram(Red Line:15)-T1\n",
      "Keshav Puram(Red Line:15)-T2\n",
      "Keshav Puram(Red Line:15)-T3\n",
      "Keshav Puram(Red Line:15)-T4\n",
      "Keshav Puram(Red Line:15)-T5\n",
      "Keshav Puram(Red Line:15)-T6\n",
      "Keshav Puram(Red Line:15)-T7\n",
      "Keshav Puram(Red Line:15)-T8\n",
      "Keshav Puram(Red Line:15)-T9\n",
      "Keshav Puram(Red Line:15)-T10\n",
      "Keshav Puram(Red Line:15)-T11\n",
      "Keshav Puram(Red Line:15)-T12\n",
      "Keshav Puram(Red Line:15)-T13\n",
      "Keshav Puram(Red Line:15)-T14\n",
      "Keshav Puram(Red Line:15)-T15\n",
      "Keshav Puram(Red Line:15)-T16\n",
      "Keshav Puram(Red Line:15)-T17\n",
      "Keshav Puram(Red Line:15)-T18\n",
      "Keshav Puram(Red Line:15)-T19\n",
      "Keshav Puram(Red Line:15)-T20\n",
      "Keshav Puram(Red Line:15)-T21\n",
      "Keshav Puram(Red Line:15)-T22\n",
      "Keshav Puram(Red Line:15)-T23\n",
      "Keshav Puram(Red Line:15)-T24\n",
      "Keshav Puram(Red Line:15)-T25\n",
      "Keshav Puram(Red Line:15)-T26\n",
      "Keshav Puram(Red Line:15)-T27\n",
      "Keshav Puram(Red Line:15)-T28\n",
      "Keshav Puram(Red Line:15)-T29\n",
      "Keshav Puram(Red Line:15)-T30\n"
     ]
    }
   ],
   "source": [
    "metro.print_train_location(-1)"
   ]
  },
  {
   "cell_type": "code",
   "execution_count": 6,
   "metadata": {},
   "outputs": [
    {
     "name": "stdout",
     "output_type": "stream",
     "text": [
      "1: Dilshad Garden\n",
      "2: Jhil Mil\n",
      "3: Mansarovar Park\n",
      "4: Shahdara\n",
      "5: Welcome\n",
      "6: Seelampur\n",
      "7: Shastri Park\n",
      "8: Kashmere Gate\n",
      "9: Tis Hazari\n",
      "10: Pul Bangash\n",
      "11: Pratap Nagar\n",
      "12: Shastri Nagar\n",
      "13: Inder Lok\n",
      "14: Kanhaiya Nagar\n",
      "15: Keshav Puram\n",
      "16: Netaji Subhash Place\n",
      "17: Kohat Enclave\n",
      "18: Pitam Pura\n",
      "19: Rohini East\n",
      "20: Rohini West\n",
      "21: Rithala\n"
     ]
    }
   ],
   "source": [
    "red_line = metro.lines['Red Line']\n",
    "red_line.print_stations()"
   ]
  },
  {
   "cell_type": "code",
   "execution_count": 7,
   "metadata": {},
   "outputs": [
    {
     "data": {
      "text/plain": [
       "{'Kashmere Gate': <metro.Station at 0x7fc850f8db00>,\n",
       " 'Inder Lok': <metro.Station at 0x7fc850f83160>,\n",
       " 'Netaji Subhash Place': <metro.Station at 0x7fc85071aa90>,\n",
       " 'Azadpur': <metro.Station at 0x7fc85071aa58>,\n",
       " 'New Delhi': <metro.Station at 0x7fc850f8da58>,\n",
       " 'Rajiv Chowk': <metro.Station at 0x7fc850f8d5f8>,\n",
       " 'Central Secretariat': <metro.Station at 0x7fc850f8dcf8>,\n",
       " 'INA': <metro.Station at 0x7fc85071ad30>,\n",
       " 'Hauz Khas': <metro.Station at 0x7fc85071a470>,\n",
       " 'Sikandarpur': <metro.Station at 0x7fc850f83cc0>,\n",
       " 'Janak Puri West': <metro.Station at 0x7fc850f83f28>,\n",
       " 'Rajouri Garden': <metro.Station at 0x7fc85071ab00>,\n",
       " 'Kirti Nagar': <metro.Station at 0x7fc850f8d550>,\n",
       " 'Mandi House': <metro.Station at 0x7fc850f8dbe0>,\n",
       " 'Botanical Garden': <metro.Station at 0x7fc85071a898>,\n",
       " 'Dhaula Kuan': <metro.Station at 0x7fc850f8dac8>,\n",
       " 'Lajpat Nagar': <metro.Station at 0x7fc85071ae48>,\n",
       " 'Kalkaji Mandir': <metro.Station at 0x7fc85071a780>,\n",
       " 'Janakpuri West': <metro.Station at 0x7fc85071a048>,\n",
       " 'Durgabai Deshmukh South Campus': <metro.Station at 0x7fc85071abe0>}"
      ]
     },
     "execution_count": 7,
     "metadata": {},
     "output_type": "execute_result"
    }
   ],
   "source": [
    "metro.transferpoints"
   ]
  },
  {
   "cell_type": "markdown",
   "metadata": {},
   "source": [
    "## Execute an action\n",
    "### Move train from a station to another station"
   ]
  },
  {
   "cell_type": "code",
   "execution_count": 8,
   "metadata": {},
   "outputs": [
    {
     "name": "stdout",
     "output_type": "stream",
     "text": [
      "Train #1: Keshav Puram station, Red Line\n",
      "Adjacent stations on Red Line\n",
      "Kanhaiya Nagar\n",
      "Netaji Subhash Place\n"
     ]
    }
   ],
   "source": [
    "train_1 = metro.trains[1]\n",
    "station_1 = train_1.station\n",
    "line_1 = train_1.line\n",
    "adjacent_stations = station_1.find_adjacent_nodes(line_1)\n",
    "print(train_1)\n",
    "print('Adjacent stations on {}'.format(line_1))\n",
    "for station in adjacent_stations:\n",
    "    print(station)"
   ]
  },
  {
   "cell_type": "code",
   "execution_count": 9,
   "metadata": {},
   "outputs": [
    {
     "name": "stdout",
     "output_type": "stream",
     "text": [
      "Current turn: 0\n",
      "[move] train 1 from Keshav Puram to Netaji Subhash Place\n"
     ]
    }
   ],
   "source": [
    "action_1 = MoveTrain(train_1, station_1, adjacent_stations[1])\n",
    "print('Current turn:',metro.turns)\n",
    "print(action_1)\n",
    "metro.update([action_1])"
   ]
  },
  {
   "cell_type": "code",
   "execution_count": 10,
   "metadata": {},
   "outputs": [
    {
     "name": "stdout",
     "output_type": "stream",
     "text": [
      "Current turn: 1\n",
      "Netaji Subhash Place(Red Line:16)-T1\n"
     ]
    }
   ],
   "source": [
    "print('Current turn:',metro.turns)\n",
    "metro.print_train_location(1)"
   ]
  },
  {
   "cell_type": "code",
   "execution_count": 11,
   "metadata": {},
   "outputs": [
    {
     "name": "stdout",
     "output_type": "stream",
     "text": [
      "Current station id: 16\n",
      "Transfer point station id: 8\n"
     ]
    }
   ],
   "source": [
    "# current station id\n",
    "station_id = line_1.get_station_idx(train_1.station)\n",
    "print('Current station id:', station_id)\n",
    "\n",
    "# The 'Kashmere Gate' station is a transfer point on line_1\n",
    "transferpoint_id = line_1.get_station_idx(metro.stations['Kashmere Gate'])\n",
    "print('Transfer point station id:',transferpoint_id)\n"
   ]
  },
  {
   "cell_type": "code",
   "execution_count": 12,
   "metadata": {},
   "outputs": [
    {
     "name": "stdout",
     "output_type": "stream",
     "text": [
      "Current turn: 1\n",
      "[move] train 1 from Netaji Subhash Place to Keshav Puram\n",
      "Keshav Puram(Red Line:15)-T1\n",
      "\n",
      "Current turn: 2\n",
      "[move] train 1 from Keshav Puram to Kanhaiya Nagar\n",
      "Kanhaiya Nagar(Red Line:14)-T1\n",
      "\n",
      "Current turn: 3\n",
      "[move] train 1 from Kanhaiya Nagar to Inder Lok\n",
      "Inder Lok(Red Line:13)-T1\n",
      "\n",
      "Current turn: 4\n",
      "[move] train 1 from Inder Lok to Shastri Nagar\n",
      "Shastri Nagar(Red Line:12)-T1\n",
      "\n",
      "Current turn: 5\n",
      "[move] train 1 from Shastri Nagar to Pratap Nagar\n",
      "Pratap Nagar(Red Line:11)-T1\n",
      "\n",
      "Current turn: 6\n",
      "[move] train 1 from Pratap Nagar to Pul Bangash\n",
      "Pul Bangash(Red Line:10)-T1\n",
      "\n",
      "Current turn: 7\n",
      "[move] train 1 from Pul Bangash to Tis Hazari\n",
      "Tis Hazari(Red Line:9)-T1\n",
      "\n",
      "Current turn: 8\n",
      "[move] train 1 from Tis Hazari to Kashmere Gate\n",
      "Kashmere Gate(Red Line:8)-T1\n",
      "\n"
     ]
    }
   ],
   "source": [
    "# move train_1 from station 16 to 8\n",
    "for i in range(station_id, transferpoint_id, -1):\n",
    "    action = MoveTrain(train_1, line_1[i], line_1[i-1])\n",
    "    print('Current turn:',metro.turns)\n",
    "    print(action)\n",
    "    metro.update([action])\n",
    "    metro.print_train_location(1)\n",
    "    print()"
   ]
  },
  {
   "cell_type": "markdown",
   "metadata": {},
   "source": [
    "### Switch line"
   ]
  },
  {
   "cell_type": "code",
   "execution_count": 13,
   "metadata": {},
   "outputs": [
    {
     "name": "stdout",
     "output_type": "stream",
     "text": [
      "Line that passing current transfer point [Kashmere Gate]\n",
      "Red Line\n",
      "Violet Line\n"
     ]
    }
   ],
   "source": [
    "current_station = train_1.station\n",
    "\n",
    "print('Line that passing current transfer point [{}]'.format(current_station))\n",
    "for line in current_station.lines:\n",
    "    print(line)"
   ]
  },
  {
   "cell_type": "code",
   "execution_count": 14,
   "metadata": {},
   "outputs": [
    {
     "name": "stdout",
     "output_type": "stream",
     "text": [
      "Current turn: 9\n",
      "[Switch line] train 1 from Red Line to Violet Line\n",
      "Kashmere Gate(Violet Line:1)-T1\n",
      "\n",
      "Current turn: 10\n"
     ]
    }
   ],
   "source": [
    "action_2 = SwitchLine(train_1, metro.lines['Red Line'], metro.lines['Violet Line'])\n",
    "print('Current turn:',metro.turns)\n",
    "print(action_2)\n",
    "metro.update([action_2])\n",
    "metro.print_train_location(1)\n",
    "print('\\nCurrent turn:',metro.turns)"
   ]
  },
  {
   "cell_type": "markdown",
   "metadata": {},
   "source": [
    "### Print state of the network"
   ]
  },
  {
   "cell_type": "code",
   "execution_count": 15,
   "metadata": {},
   "outputs": [
    {
     "name": "stdout",
     "output_type": "stream",
     "text": [
      "Kashmere Gate(Violet Line:1)-T1\n",
      "Keshav Puram(Red Line:15)-T2\n",
      "Keshav Puram(Red Line:15)-T3\n",
      "Keshav Puram(Red Line:15)-T4\n",
      "Keshav Puram(Red Line:15)-T5\n",
      "Keshav Puram(Red Line:15)-T6\n",
      "Keshav Puram(Red Line:15)-T7\n",
      "Keshav Puram(Red Line:15)-T8\n",
      "Keshav Puram(Red Line:15)-T9\n",
      "Keshav Puram(Red Line:15)-T10\n",
      "Keshav Puram(Red Line:15)-T11\n",
      "Keshav Puram(Red Line:15)-T12\n",
      "Keshav Puram(Red Line:15)-T13\n",
      "Keshav Puram(Red Line:15)-T14\n",
      "Keshav Puram(Red Line:15)-T15\n",
      "Keshav Puram(Red Line:15)-T16\n",
      "Keshav Puram(Red Line:15)-T17\n",
      "Keshav Puram(Red Line:15)-T18\n",
      "Keshav Puram(Red Line:15)-T19\n",
      "Keshav Puram(Red Line:15)-T20\n",
      "Keshav Puram(Red Line:15)-T21\n",
      "Keshav Puram(Red Line:15)-T22\n",
      "Keshav Puram(Red Line:15)-T23\n",
      "Keshav Puram(Red Line:15)-T24\n",
      "Keshav Puram(Red Line:15)-T25\n",
      "Keshav Puram(Red Line:15)-T26\n",
      "Keshav Puram(Red Line:15)-T27\n",
      "Keshav Puram(Red Line:15)-T28\n",
      "Keshav Puram(Red Line:15)-T29\n",
      "Keshav Puram(Red Line:15)-T30\n"
     ]
    }
   ],
   "source": [
    "metro.print_train_location(-1)"
   ]
  }
 ],
 "metadata": {
  "kernelspec": {
   "display_name": "Python 3",
   "language": "python",
   "name": "python3"
  },
  "language_info": {
   "codemirror_mode": {
    "name": "ipython",
    "version": 3
   },
   "file_extension": ".py",
   "mimetype": "text/x-python",
   "name": "python",
   "nbconvert_exporter": "python",
   "pygments_lexer": "ipython3",
   "version": "3.6.5"
  }
 },
 "nbformat": 4,
 "nbformat_minor": 2
}
