{
 "cells": [
  {
   "cell_type": "markdown",
   "metadata": {},
   "source": [
    "# Metro classes"
   ]
  },
  {
   "cell_type": "code",
   "execution_count": 1,
   "metadata": {},
   "outputs": [],
   "source": [
    "from metro import *"
   ]
  },
  {
   "cell_type": "markdown",
   "metadata": {},
   "source": [
    "## Build data from file"
   ]
  },
  {
   "cell_type": "code",
   "execution_count": 2,
   "metadata": {},
   "outputs": [],
   "source": [
    "metro = Metro('delhi')\n",
    "metro.build_graph('delhi')"
   ]
  },
  {
   "cell_type": "markdown",
   "metadata": {},
   "source": [
    "## Inspect metro class"
   ]
  },
  {
   "cell_type": "code",
   "execution_count": 3,
   "metadata": {},
   "outputs": [
    {
     "name": "stdout",
     "output_type": "stream",
     "text": [
      "Dilshad Garden\n",
      "Jhil Mil\n",
      "Mansarovar Park\n",
      "Shahdara\n",
      "Welcome\n",
      "Seelampur\n",
      "Shastri Park\n",
      "Kashmere Gate\n",
      "Tis Hazari\n",
      "Pul Bangash\n"
     ]
    }
   ],
   "source": [
    "# print 10 stations\n",
    "# metro.stations is a dictionary\n",
    "for station in list(metro.stations)[:10]:\n",
    "    print(station)"
   ]
  },
  {
   "cell_type": "code",
   "execution_count": 4,
   "metadata": {},
   "outputs": [
    {
     "data": {
      "text/plain": [
       "{'Red Line': <metro.Line at 0x7f44e0c40ef0>,\n",
       " 'Violet Line': <metro.Line at 0x7f44e0c44198>,\n",
       " 'Green Line': <metro.Line at 0x7f44e0c442b0>,\n",
       " 'Pink Line': <metro.Line at 0x7f44e0c44390>,\n",
       " 'Yellow Line': <metro.Line at 0x7f44e0c44588>,\n",
       " 'Airport Express': <metro.Line at 0x7f44e0c448d0>,\n",
       " 'Blue Line': <metro.Line at 0x7f44e0c44908>,\n",
       " 'Magenta Line': <metro.Line at 0x7f44e0c44c18>,\n",
       " 'Rapid': <metro.Line at 0x7f44e0c44e80>}"
      ]
     },
     "execution_count": 4,
     "metadata": {},
     "output_type": "execute_result"
    }
   ],
   "source": [
    "# metro.lines is a dictionary\n",
    "metro.lines"
   ]
  },
  {
   "cell_type": "code",
   "execution_count": 5,
   "metadata": {},
   "outputs": [
    {
     "name": "stdout",
     "output_type": "stream",
     "text": [
      "Train #1: Keshav Puram station, Red Line\n",
      "Train #2: Keshav Puram station, Red Line\n",
      "Train #3: Keshav Puram station, Red Line\n",
      "Train #4: Keshav Puram station, Red Line\n",
      "Train #5: Keshav Puram station, Red Line\n",
      "Train #6: Keshav Puram station, Red Line\n",
      "Train #7: Keshav Puram station, Red Line\n",
      "Train #8: Keshav Puram station, Red Line\n",
      "Train #9: Keshav Puram station, Red Line\n",
      "Train #10: Keshav Puram station, Red Line\n",
      "Train #11: Keshav Puram station, Red Line\n",
      "Train #12: Keshav Puram station, Red Line\n",
      "Train #13: Keshav Puram station, Red Line\n",
      "Train #14: Keshav Puram station, Red Line\n",
      "Train #15: Keshav Puram station, Red Line\n",
      "Train #16: Keshav Puram station, Red Line\n",
      "Train #17: Keshav Puram station, Red Line\n",
      "Train #18: Keshav Puram station, Red Line\n",
      "Train #19: Keshav Puram station, Red Line\n",
      "Train #20: Keshav Puram station, Red Line\n",
      "Train #21: Keshav Puram station, Red Line\n",
      "Train #22: Keshav Puram station, Red Line\n",
      "Train #23: Keshav Puram station, Red Line\n",
      "Train #24: Keshav Puram station, Red Line\n",
      "Train #25: Keshav Puram station, Red Line\n",
      "Train #26: Keshav Puram station, Red Line\n",
      "Train #27: Keshav Puram station, Red Line\n",
      "Train #28: Keshav Puram station, Red Line\n",
      "Train #29: Keshav Puram station, Red Line\n",
      "Train #30: Keshav Puram station, Red Line\n"
     ]
    }
   ],
   "source": [
    "metro.print_train_location(-1)"
   ]
  },
  {
   "cell_type": "code",
   "execution_count": 6,
   "metadata": {},
   "outputs": [
    {
     "name": "stdout",
     "output_type": "stream",
     "text": [
      "1: Dilshad Garden\n",
      "2: Jhil Mil\n",
      "3: Mansarovar Park\n",
      "4: Shahdara\n",
      "5: Welcome\n",
      "6: Seelampur\n",
      "7: Shastri Park\n",
      "8: Kashmere Gate\n",
      "9: Tis Hazari\n",
      "10: Pul Bangash\n",
      "11: Pratap Nagar\n",
      "12: Shastri Nagar\n",
      "13: Inder Lok\n",
      "14: Kanhaiya Nagar\n",
      "15: Keshav Puram\n",
      "16: Netaji Subhash Place\n",
      "17: Kohat Enclave\n",
      "18: Pitam Pura\n",
      "19: Rohini East\n",
      "20: Rohini West\n",
      "21: Rithala\n"
     ]
    }
   ],
   "source": [
    "red_line = metro.lines['Red Line']\n",
    "red_line.print_stations()"
   ]
  },
  {
   "cell_type": "code",
   "execution_count": 7,
   "metadata": {},
   "outputs": [
    {
     "data": {
      "text/plain": [
       "{'Kashmere Gate': <metro.Station at 0x7f44e0c50ac8>,\n",
       " 'Inder Lok': <metro.Station at 0x7f44e0c44128>,\n",
       " 'Netaji Subhash Place': <metro.Station at 0x7f44e03dda58>,\n",
       " 'Azadpur': <metro.Station at 0x7f44e03dda20>,\n",
       " 'New Delhi': <metro.Station at 0x7f44e0c50a20>,\n",
       " 'Rajiv Chowk': <metro.Station at 0x7f44e0c505c0>,\n",
       " 'Central Secretariat': <metro.Station at 0x7f44e0c50cc0>,\n",
       " 'INA': <metro.Station at 0x7f44e03ddcf8>,\n",
       " 'Hauz Khas': <metro.Station at 0x7f44e03dd438>,\n",
       " 'Sikandarpur': <metro.Station at 0x7f44e0c44c88>,\n",
       " 'Janak Puri West': <metro.Station at 0x7f44e0c44ef0>,\n",
       " 'Rajouri Garden': <metro.Station at 0x7f44e03ddac8>,\n",
       " 'Kirti Nagar': <metro.Station at 0x7f44e0c50518>,\n",
       " 'Mandi House': <metro.Station at 0x7f44e0c50ba8>,\n",
       " 'Botanical Garden': <metro.Station at 0x7f44e03dd860>,\n",
       " 'Dhaula Kuan': <metro.Station at 0x7f44e0c50a90>,\n",
       " 'Lajpat Nagar': <metro.Station at 0x7f44e03dde10>,\n",
       " 'Kalkaji Mandir': <metro.Station at 0x7f44e03dd748>,\n",
       " 'Janakpuri West': <metro.Station at 0x7f44e0c50fd0>,\n",
       " 'Durgabai Deshmukh South Campus': <metro.Station at 0x7f44e03ddba8>}"
      ]
     },
     "execution_count": 7,
     "metadata": {},
     "output_type": "execute_result"
    }
   ],
   "source": [
    "metro.transferpoints"
   ]
  },
  {
   "cell_type": "markdown",
   "metadata": {},
   "source": [
    "## Execute an action\n",
    "### Move train from a station to another station"
   ]
  },
  {
   "cell_type": "code",
   "execution_count": 8,
   "metadata": {},
   "outputs": [
    {
     "name": "stdout",
     "output_type": "stream",
     "text": [
      "Train #1: Keshav Puram station, Red Line\n",
      "Adjacent stations on Red Line\n",
      "Kanhaiya Nagar\n",
      "Netaji Subhash Place\n"
     ]
    }
   ],
   "source": [
    "train_1 = metro.trains[1]\n",
    "station_1 = train_1.station\n",
    "line_1 = train_1.line\n",
    "adjacent_stations = station_1.find_adjacent_nodes(line_1)\n",
    "print(train_1)\n",
    "print('Adjacent stations on {}'.format(line_1))\n",
    "for station in adjacent_stations:\n",
    "    print(station)"
   ]
  },
  {
   "cell_type": "code",
   "execution_count": 9,
   "metadata": {},
   "outputs": [
    {
     "name": "stdout",
     "output_type": "stream",
     "text": [
      "Current turn: 0\n",
      "[move] train 1 from Keshav Puram to Netaji Subhash Place\n"
     ]
    }
   ],
   "source": [
    "action_1 = MoveTrain(train_1, station_1, adjacent_stations[1])\n",
    "print('Current turn:',metro.turns)\n",
    "print(action_1)\n",
    "metro.update([action_1])"
   ]
  },
  {
   "cell_type": "code",
   "execution_count": 10,
   "metadata": {},
   "outputs": [
    {
     "name": "stdout",
     "output_type": "stream",
     "text": [
      "Current turn: 1\n",
      "Train #1: Netaji Subhash Place station, Red Line\n"
     ]
    }
   ],
   "source": [
    "print('Current turn:',metro.turns)\n",
    "metro.print_train_location(1)"
   ]
  },
  {
   "cell_type": "code",
   "execution_count": 11,
   "metadata": {},
   "outputs": [
    {
     "name": "stdout",
     "output_type": "stream",
     "text": [
      "Current station id: 16\n",
      "Transfer point station id: 8\n"
     ]
    }
   ],
   "source": [
    "# current station id\n",
    "station_id = line_1.get_station_idx(train_1.station)\n",
    "print('Current station id:', station_id)\n",
    "\n",
    "# The 'Kashmere Gate' station is a transfer point on line_1\n",
    "transferpoint_id = line_1.get_station_idx(metro.stations['Kashmere Gate'])\n",
    "print('Transfer point station id:',transferpoint_id)\n"
   ]
  },
  {
   "cell_type": "code",
   "execution_count": 12,
   "metadata": {},
   "outputs": [
    {
     "name": "stdout",
     "output_type": "stream",
     "text": [
      "Current turn: 1\n",
      "[move] train 1 from Netaji Subhash Place to Keshav Puram\n",
      "Train #1: Keshav Puram station, Red Line\n",
      "\n",
      "Current turn: 2\n",
      "[move] train 1 from Keshav Puram to Kanhaiya Nagar\n",
      "Train #1: Kanhaiya Nagar station, Red Line\n",
      "\n",
      "Current turn: 3\n",
      "[move] train 1 from Kanhaiya Nagar to Inder Lok\n",
      "Train #1: Inder Lok station, Red Line\n",
      "\n",
      "Current turn: 4\n",
      "[move] train 1 from Inder Lok to Shastri Nagar\n",
      "Train #1: Shastri Nagar station, Red Line\n",
      "\n",
      "Current turn: 5\n",
      "[move] train 1 from Shastri Nagar to Pratap Nagar\n",
      "Train #1: Pratap Nagar station, Red Line\n",
      "\n",
      "Current turn: 6\n",
      "[move] train 1 from Pratap Nagar to Pul Bangash\n",
      "Train #1: Pul Bangash station, Red Line\n",
      "\n",
      "Current turn: 7\n",
      "[move] train 1 from Pul Bangash to Tis Hazari\n",
      "Train #1: Tis Hazari station, Red Line\n",
      "\n",
      "Current turn: 8\n",
      "[move] train 1 from Tis Hazari to Kashmere Gate\n",
      "Train #1: Kashmere Gate station, Red Line\n",
      "\n"
     ]
    }
   ],
   "source": [
    "# move train_1 from station 16 to 8\n",
    "for i in range(station_id, transferpoint_id, -1):\n",
    "    action = MoveTrain(train_1, line_1[i], line_1[i-1])\n",
    "    print('Current turn:',metro.turns)\n",
    "    print(action)\n",
    "    metro.update([action])\n",
    "    metro.print_train_location(1)\n",
    "    print()"
   ]
  },
  {
   "cell_type": "markdown",
   "metadata": {},
   "source": [
    "### Switch line"
   ]
  },
  {
   "cell_type": "code",
   "execution_count": 13,
   "metadata": {},
   "outputs": [
    {
     "name": "stdout",
     "output_type": "stream",
     "text": [
      "Line that passing current transfer point [Kashmere Gate]\n",
      "Violet Line\n",
      "Red Line\n"
     ]
    }
   ],
   "source": [
    "current_station = train_1.station\n",
    "\n",
    "print('Line that passing current transfer point [{}]'.format(current_station))\n",
    "for line in current_station.lines:\n",
    "    print(line)"
   ]
  },
  {
   "cell_type": "code",
   "execution_count": 14,
   "metadata": {},
   "outputs": [
    {
     "name": "stdout",
     "output_type": "stream",
     "text": [
      "Current turn: 9\n",
      "[Switch line] train 1 from Red Line to Violet Line\n",
      "Train #1: Kashmere Gate station, Violet Line\n",
      "\n",
      "Current turn: 10\n"
     ]
    }
   ],
   "source": [
    "action_2 = SwitchLine(train_1, metro.lines['Red Line'], metro.lines['Violet Line'])\n",
    "print('Current turn:',metro.turns)\n",
    "print(action_2)\n",
    "metro.update([action_2])\n",
    "metro.print_train_location(1)\n",
    "print('\\nCurrent turn:',metro.turns)"
   ]
  }
 ],
 "metadata": {
  "kernelspec": {
   "display_name": "Python 3",
   "language": "python",
   "name": "python3"
  },
  "language_info": {
   "codemirror_mode": {
    "name": "ipython",
    "version": 3
   },
   "file_extension": ".py",
   "mimetype": "text/x-python",
   "name": "python",
   "nbconvert_exporter": "python",
   "pygments_lexer": "ipython3",
   "version": "3.6.5"
  }
 },
 "nbformat": 4,
 "nbformat_minor": 2
}
